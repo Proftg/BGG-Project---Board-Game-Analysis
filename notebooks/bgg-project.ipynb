{
 "cells": [
  {
   "attachments": {
    "fe6f198c-47f8-4c54-a4dd-c08a5388b0c1.png": {
     "image/png": "[encoded data removed]"
    }
   },
   "cell_type": "markdown",
   "id": "9a577708-df9a-469d-944c-1eb0ecde1777",
   "metadata": {},
   "source": [
    "# 🎲 Board Games Analysis Project 🎲\n",
    "----\n",
    "\n",
    "![image.png](attachment:fe6f198c-47f8-4c54-a4dd-c08a5388b0c1.png)\n",
    "\n",
    "#### 🚀 Authors : Maxence Dauphin, Bernhard Riemer, Mónica Costa, Tahar Guenfoud, Konstantin Shapovalov\n",
    "#### 🎯 Batch #1835 Data Science Flex\n",
    "\n"
   ]
  },
  {
   "cell_type": "markdown",
   "id": "8bf0f5f1-e089-4f18-b3d8-1944de7a8e55",
   "metadata": {},
   "source": [
    "# Importing Libraries\n",
    "------"
   ]
  },
  {
   "cell_type": "code",
   "id": "cd656441-42ea-499e-bb2a-3bb061b84917",
   "metadata": {
    "ExecuteTime": {
     "end_time": "2025-03-18T06:53:58.880913Z",
     "start_time": "2025-03-18T06:53:50.073062Z"
    }
   },
   "source": [
    "import os\n",
    "import subprocess\n",
    "import re\n",
    "\n",
    "import numpy as np\n",
    "import pandas as pd\n",
    "pd.options.display.max_columns = None\n",
    "\n",
    "import warnings\n",
    "warnings.filterwarnings(\"ignore\")\n",
    "\n",
    "import matplotlib.pyplot as plt\n",
    "from matplotlib import colors\n",
    "import seaborn as sns\n",
    "\n",
    "from sklearn import metrics\n",
    "from sklearn.model_selection import train_test_split, cross_validate, cross_val_score\n",
    "from sklearn.impute import SimpleImputer, KNNImputer\n",
    "from sklearn.preprocessing import MinMaxScaler, StandardScaler, RobustScaler\n",
    "from sklearn.preprocessing import OrdinalEncoder, OneHotEncoder\n",
    "from sklearn.pipeline import Pipeline, make_pipeline\n",
    "from sklearn.compose import ColumnTransformer, make_column_transformer, make_column_selector\n",
    "from sklearn import set_config; set_config(display=\"diagram\")\n",
    "from sklearn.base import TransformerMixin, BaseEstimator\n",
    "\n",
    "from sklearn.metrics import make_scorer\n",
    "from sklearn.metrics import mean_squared_error, mean_squared_log_error\n",
    "from sklearn.model_selection import GridSearchCV, RandomizedSearchCV\n",
    "from sklearn.linear_model import Ridge, Lasso, LinearRegression, ElasticNet\n",
    "from sklearn.linear_model import SGDRegressor\n",
    "from sklearn.neighbors import KNeighborsRegressor\n",
    "from sklearn.tree import DecisionTreeRegressor\n",
    "from sklearn.svm import SVR\n",
    "from sklearn.ensemble import RandomForestRegressor, AdaBoostRegressor, GradientBoostingRegressor\n",
    "from sklearn.ensemble import VotingRegressor, StackingRegressor\n",
    "from xgboost import XGBRegressor"
   ],
   "outputs": [
    {
     "ename": "ModuleNotFoundError",
     "evalue": "No module named 'xgboost'",
     "output_type": "error",
     "traceback": [
      "\u001B[0;31m---------------------------------------------------------------------------\u001B[0m",
      "\u001B[0;31mModuleNotFoundError\u001B[0m                       Traceback (most recent call last)",
      "Cell \u001B[0;32mIn[1], line 36\u001B[0m\n\u001B[1;32m     34\u001B[0m \u001B[38;5;28;01mfrom\u001B[39;00m\u001B[38;5;250m \u001B[39m\u001B[38;5;21;01msklearn\u001B[39;00m\u001B[38;5;21;01m.\u001B[39;00m\u001B[38;5;21;01mensemble\u001B[39;00m\u001B[38;5;250m \u001B[39m\u001B[38;5;28;01mimport\u001B[39;00m RandomForestRegressor, AdaBoostRegressor, GradientBoostingRegressor\n\u001B[1;32m     35\u001B[0m \u001B[38;5;28;01mfrom\u001B[39;00m\u001B[38;5;250m \u001B[39m\u001B[38;5;21;01msklearn\u001B[39;00m\u001B[38;5;21;01m.\u001B[39;00m\u001B[38;5;21;01mensemble\u001B[39;00m\u001B[38;5;250m \u001B[39m\u001B[38;5;28;01mimport\u001B[39;00m VotingRegressor, StackingRegressor\n\u001B[0;32m---> 36\u001B[0m \u001B[38;5;28;01mfrom\u001B[39;00m\u001B[38;5;250m \u001B[39m\u001B[38;5;21;01mxgboost\u001B[39;00m\u001B[38;5;250m \u001B[39m\u001B[38;5;28;01mimport\u001B[39;00m XGBRegressor\n",
      "\u001B[0;31mModuleNotFoundError\u001B[0m: No module named 'xgboost'"
     ]
    }
   ],
   "execution_count": 1
  },
  {
   "cell_type": "markdown",
   "id": "aa10e573-78bd-4a57-8087-7f0637bc3a7c",
   "metadata": {},
   "source": [
    "# Load data from Kaggle\n",
    "---"
   ]
  },
  {
   "cell_type": "code",
   "id": "852b719d-9322-4894-afa1-511ce49f0bdc",
   "metadata": {
    "ExecuteTime": {
     "end_time": "2025-03-18T06:59:35.285081Z",
     "start_time": "2025-03-18T06:59:34.597772Z"
    }
   },
   "source": [
    "# Define the path to raw_data repo\n",
    "raw_data_path = \"~/code/riemerb/maxencedauphin/raw_data\"\n",
    "raw_data_path = os.path.expanduser(raw_data_path)\n",
    "\n",
    "# Define the url to Kaggle data\n",
    "kaggle_data_path = \"https://www.kaggle.com/api/v1/datasets/download/melissamonfared/board-games\"\n",
    "\n",
    "# Define the archive path\n",
    "archive_path = os.path.join(raw_data_path, \"archive.zip\")\n",
    "\n",
    "# Check if the archive exists\n",
    "if os.path.exists(archive_path):\n",
    "    try:\n",
    "        print(\"Archive exists. Please enter 'yes' to reload data or 'no' to keep existing data.\")\n",
    "        user_input = input(\"Enter your choice (yes/no): \")\n",
    "\n",
    "        if user_input.lower() == \"yes\":\n",
    "            subprocess.run(f\"curl -L -o {archive_path} {kaggle_data_path}\", shell=True)\n",
    "            subprocess.run(f\"unzip -o {archive_path} -d {raw_data_path}\", shell=True)\n",
    "        else:\n",
    "            print(\"Keeping existing data.\")\n",
    "    except EOFError:\n",
    "        print(\"User input not supported in this environment. Proceeding with default action.\")\n",
    "        print(\"Keeping existing data.\")\n",
    "else:\n",
    "    subprocess.run(f\"curl -L -o {archive_path} {kaggle_data_path}\", shell=True)\n",
    "    subprocess.run(f\"unzip {archive_path} -d {raw_data_path}\", shell=True)"
   ],
   "outputs": [
    {
     "name": "stderr",
     "output_type": "stream",
     "text": [
      "  % Total    % Received % Xferd  Average Speed   Time    Time     Time  Current\n",
      "                                 Dload  Upload   Total   Spent    Left  Speed\n",
      "  0     0    0     0    0     0      0      0 --:--:-- --:--:-- --:--:--     0\n",
      "Warning: Failed to open the file \n",
      "Warning: /Users/bernhardriemer/code/riemerb/maxencedauphin/raw_data/archive.zip\n",
      "Warning: : No such file or directory\n",
      "  0  754k    0     0    0     0      0      0 --:--:-- --:--:-- --:--:--     0\n",
      "curl: (56) Failure writing output to destination, passed 1357 returned 4294967295\n",
      "unzip:  cannot find or open /Users/bernhardriemer/code/riemerb/maxencedauphin/raw_data/archive.zip, /Users/bernhardriemer/code/riemerb/maxencedauphin/raw_data/archive.zip.zip or /Users/bernhardriemer/code/riemerb/maxencedauphin/raw_data/archive.zip.ZIP.\n"
     ]
    }
   ],
   "execution_count": 7
  },
  {
   "cell_type": "code",
   "id": "32a75994-a866-4003-8e11-32f901598005",
   "metadata": {
    "ExecuteTime": {
     "end_time": "2025-03-18T06:59:44.761854Z",
     "start_time": "2025-03-18T06:59:44.707746Z"
    }
   },
   "source": [
    "filepath = \"~/code/riemerb/maxencedauphin/bgg-project/raw_data/BGG_Data_Set.csv\"\n",
    "df_orig = pd.read_csv(filepath, encoding='ISO-8859-1')\n",
    "df = df_orig.copy()"
   ],
   "outputs": [
    {
     "ename": "FileNotFoundError",
     "evalue": "[Errno 2] No such file or directory: '/Users/bernhardriemer/code/riemerb/maxencedauphin/bgg-project/raw_data/BGG_Data_Set.csv'",
     "output_type": "error",
     "traceback": [
      "\u001B[0;31m---------------------------------------------------------------------------\u001B[0m",
      "\u001B[0;31mFileNotFoundError\u001B[0m                         Traceback (most recent call last)",
      "Cell \u001B[0;32mIn[8], line 2\u001B[0m\n\u001B[1;32m      1\u001B[0m filepath \u001B[38;5;241m=\u001B[39m \u001B[38;5;124m\"\u001B[39m\u001B[38;5;124m~/code/riemerb/maxencedauphin/bgg-project/raw_data/BGG_Data_Set.csv\u001B[39m\u001B[38;5;124m\"\u001B[39m\n\u001B[0;32m----> 2\u001B[0m df_orig \u001B[38;5;241m=\u001B[39m \u001B[43mpd\u001B[49m\u001B[38;5;241;43m.\u001B[39;49m\u001B[43mread_csv\u001B[49m\u001B[43m(\u001B[49m\u001B[43mfilepath\u001B[49m\u001B[43m,\u001B[49m\u001B[43m \u001B[49m\u001B[43mencoding\u001B[49m\u001B[38;5;241;43m=\u001B[39;49m\u001B[38;5;124;43m'\u001B[39;49m\u001B[38;5;124;43mISO-8859-1\u001B[39;49m\u001B[38;5;124;43m'\u001B[39;49m\u001B[43m)\u001B[49m\n\u001B[1;32m      3\u001B[0m df \u001B[38;5;241m=\u001B[39m df_orig\u001B[38;5;241m.\u001B[39mcopy()\n",
      "File \u001B[0;32m~/code/riemerb/maxencedauphin/.venv/lib/python3.10/site-packages/pandas/io/parsers/readers.py:1026\u001B[0m, in \u001B[0;36mread_csv\u001B[0;34m(filepath_or_buffer, sep, delimiter, header, names, index_col, usecols, dtype, engine, converters, true_values, false_values, skipinitialspace, skiprows, skipfooter, nrows, na_values, keep_default_na, na_filter, verbose, skip_blank_lines, parse_dates, infer_datetime_format, keep_date_col, date_parser, date_format, dayfirst, cache_dates, iterator, chunksize, compression, thousands, decimal, lineterminator, quotechar, quoting, doublequote, escapechar, comment, encoding, encoding_errors, dialect, on_bad_lines, delim_whitespace, low_memory, memory_map, float_precision, storage_options, dtype_backend)\u001B[0m\n\u001B[1;32m   1013\u001B[0m kwds_defaults \u001B[38;5;241m=\u001B[39m _refine_defaults_read(\n\u001B[1;32m   1014\u001B[0m     dialect,\n\u001B[1;32m   1015\u001B[0m     delimiter,\n\u001B[0;32m   (...)\u001B[0m\n\u001B[1;32m   1022\u001B[0m     dtype_backend\u001B[38;5;241m=\u001B[39mdtype_backend,\n\u001B[1;32m   1023\u001B[0m )\n\u001B[1;32m   1024\u001B[0m kwds\u001B[38;5;241m.\u001B[39mupdate(kwds_defaults)\n\u001B[0;32m-> 1026\u001B[0m \u001B[38;5;28;01mreturn\u001B[39;00m \u001B[43m_read\u001B[49m\u001B[43m(\u001B[49m\u001B[43mfilepath_or_buffer\u001B[49m\u001B[43m,\u001B[49m\u001B[43m \u001B[49m\u001B[43mkwds\u001B[49m\u001B[43m)\u001B[49m\n",
      "File \u001B[0;32m~/code/riemerb/maxencedauphin/.venv/lib/python3.10/site-packages/pandas/io/parsers/readers.py:620\u001B[0m, in \u001B[0;36m_read\u001B[0;34m(filepath_or_buffer, kwds)\u001B[0m\n\u001B[1;32m    617\u001B[0m _validate_names(kwds\u001B[38;5;241m.\u001B[39mget(\u001B[38;5;124m\"\u001B[39m\u001B[38;5;124mnames\u001B[39m\u001B[38;5;124m\"\u001B[39m, \u001B[38;5;28;01mNone\u001B[39;00m))\n\u001B[1;32m    619\u001B[0m \u001B[38;5;66;03m# Create the parser.\u001B[39;00m\n\u001B[0;32m--> 620\u001B[0m parser \u001B[38;5;241m=\u001B[39m \u001B[43mTextFileReader\u001B[49m\u001B[43m(\u001B[49m\u001B[43mfilepath_or_buffer\u001B[49m\u001B[43m,\u001B[49m\u001B[43m \u001B[49m\u001B[38;5;241;43m*\u001B[39;49m\u001B[38;5;241;43m*\u001B[39;49m\u001B[43mkwds\u001B[49m\u001B[43m)\u001B[49m\n\u001B[1;32m    622\u001B[0m \u001B[38;5;28;01mif\u001B[39;00m chunksize \u001B[38;5;129;01mor\u001B[39;00m iterator:\n\u001B[1;32m    623\u001B[0m     \u001B[38;5;28;01mreturn\u001B[39;00m parser\n",
      "File \u001B[0;32m~/code/riemerb/maxencedauphin/.venv/lib/python3.10/site-packages/pandas/io/parsers/readers.py:1620\u001B[0m, in \u001B[0;36mTextFileReader.__init__\u001B[0;34m(self, f, engine, **kwds)\u001B[0m\n\u001B[1;32m   1617\u001B[0m     \u001B[38;5;28mself\u001B[39m\u001B[38;5;241m.\u001B[39moptions[\u001B[38;5;124m\"\u001B[39m\u001B[38;5;124mhas_index_names\u001B[39m\u001B[38;5;124m\"\u001B[39m] \u001B[38;5;241m=\u001B[39m kwds[\u001B[38;5;124m\"\u001B[39m\u001B[38;5;124mhas_index_names\u001B[39m\u001B[38;5;124m\"\u001B[39m]\n\u001B[1;32m   1619\u001B[0m \u001B[38;5;28mself\u001B[39m\u001B[38;5;241m.\u001B[39mhandles: IOHandles \u001B[38;5;241m|\u001B[39m \u001B[38;5;28;01mNone\u001B[39;00m \u001B[38;5;241m=\u001B[39m \u001B[38;5;28;01mNone\u001B[39;00m\n\u001B[0;32m-> 1620\u001B[0m \u001B[38;5;28mself\u001B[39m\u001B[38;5;241m.\u001B[39m_engine \u001B[38;5;241m=\u001B[39m \u001B[38;5;28;43mself\u001B[39;49m\u001B[38;5;241;43m.\u001B[39;49m\u001B[43m_make_engine\u001B[49m\u001B[43m(\u001B[49m\u001B[43mf\u001B[49m\u001B[43m,\u001B[49m\u001B[43m \u001B[49m\u001B[38;5;28;43mself\u001B[39;49m\u001B[38;5;241;43m.\u001B[39;49m\u001B[43mengine\u001B[49m\u001B[43m)\u001B[49m\n",
      "File \u001B[0;32m~/code/riemerb/maxencedauphin/.venv/lib/python3.10/site-packages/pandas/io/parsers/readers.py:1880\u001B[0m, in \u001B[0;36mTextFileReader._make_engine\u001B[0;34m(self, f, engine)\u001B[0m\n\u001B[1;32m   1878\u001B[0m     \u001B[38;5;28;01mif\u001B[39;00m \u001B[38;5;124m\"\u001B[39m\u001B[38;5;124mb\u001B[39m\u001B[38;5;124m\"\u001B[39m \u001B[38;5;129;01mnot\u001B[39;00m \u001B[38;5;129;01min\u001B[39;00m mode:\n\u001B[1;32m   1879\u001B[0m         mode \u001B[38;5;241m+\u001B[39m\u001B[38;5;241m=\u001B[39m \u001B[38;5;124m\"\u001B[39m\u001B[38;5;124mb\u001B[39m\u001B[38;5;124m\"\u001B[39m\n\u001B[0;32m-> 1880\u001B[0m \u001B[38;5;28mself\u001B[39m\u001B[38;5;241m.\u001B[39mhandles \u001B[38;5;241m=\u001B[39m \u001B[43mget_handle\u001B[49m\u001B[43m(\u001B[49m\n\u001B[1;32m   1881\u001B[0m \u001B[43m    \u001B[49m\u001B[43mf\u001B[49m\u001B[43m,\u001B[49m\n\u001B[1;32m   1882\u001B[0m \u001B[43m    \u001B[49m\u001B[43mmode\u001B[49m\u001B[43m,\u001B[49m\n\u001B[1;32m   1883\u001B[0m \u001B[43m    \u001B[49m\u001B[43mencoding\u001B[49m\u001B[38;5;241;43m=\u001B[39;49m\u001B[38;5;28;43mself\u001B[39;49m\u001B[38;5;241;43m.\u001B[39;49m\u001B[43moptions\u001B[49m\u001B[38;5;241;43m.\u001B[39;49m\u001B[43mget\u001B[49m\u001B[43m(\u001B[49m\u001B[38;5;124;43m\"\u001B[39;49m\u001B[38;5;124;43mencoding\u001B[39;49m\u001B[38;5;124;43m\"\u001B[39;49m\u001B[43m,\u001B[49m\u001B[43m \u001B[49m\u001B[38;5;28;43;01mNone\u001B[39;49;00m\u001B[43m)\u001B[49m\u001B[43m,\u001B[49m\n\u001B[1;32m   1884\u001B[0m \u001B[43m    \u001B[49m\u001B[43mcompression\u001B[49m\u001B[38;5;241;43m=\u001B[39;49m\u001B[38;5;28;43mself\u001B[39;49m\u001B[38;5;241;43m.\u001B[39;49m\u001B[43moptions\u001B[49m\u001B[38;5;241;43m.\u001B[39;49m\u001B[43mget\u001B[49m\u001B[43m(\u001B[49m\u001B[38;5;124;43m\"\u001B[39;49m\u001B[38;5;124;43mcompression\u001B[39;49m\u001B[38;5;124;43m\"\u001B[39;49m\u001B[43m,\u001B[49m\u001B[43m \u001B[49m\u001B[38;5;28;43;01mNone\u001B[39;49;00m\u001B[43m)\u001B[49m\u001B[43m,\u001B[49m\n\u001B[1;32m   1885\u001B[0m \u001B[43m    \u001B[49m\u001B[43mmemory_map\u001B[49m\u001B[38;5;241;43m=\u001B[39;49m\u001B[38;5;28;43mself\u001B[39;49m\u001B[38;5;241;43m.\u001B[39;49m\u001B[43moptions\u001B[49m\u001B[38;5;241;43m.\u001B[39;49m\u001B[43mget\u001B[49m\u001B[43m(\u001B[49m\u001B[38;5;124;43m\"\u001B[39;49m\u001B[38;5;124;43mmemory_map\u001B[39;49m\u001B[38;5;124;43m\"\u001B[39;49m\u001B[43m,\u001B[49m\u001B[43m \u001B[49m\u001B[38;5;28;43;01mFalse\u001B[39;49;00m\u001B[43m)\u001B[49m\u001B[43m,\u001B[49m\n\u001B[1;32m   1886\u001B[0m \u001B[43m    \u001B[49m\u001B[43mis_text\u001B[49m\u001B[38;5;241;43m=\u001B[39;49m\u001B[43mis_text\u001B[49m\u001B[43m,\u001B[49m\n\u001B[1;32m   1887\u001B[0m \u001B[43m    \u001B[49m\u001B[43merrors\u001B[49m\u001B[38;5;241;43m=\u001B[39;49m\u001B[38;5;28;43mself\u001B[39;49m\u001B[38;5;241;43m.\u001B[39;49m\u001B[43moptions\u001B[49m\u001B[38;5;241;43m.\u001B[39;49m\u001B[43mget\u001B[49m\u001B[43m(\u001B[49m\u001B[38;5;124;43m\"\u001B[39;49m\u001B[38;5;124;43mencoding_errors\u001B[39;49m\u001B[38;5;124;43m\"\u001B[39;49m\u001B[43m,\u001B[49m\u001B[43m \u001B[49m\u001B[38;5;124;43m\"\u001B[39;49m\u001B[38;5;124;43mstrict\u001B[39;49m\u001B[38;5;124;43m\"\u001B[39;49m\u001B[43m)\u001B[49m\u001B[43m,\u001B[49m\n\u001B[1;32m   1888\u001B[0m \u001B[43m    \u001B[49m\u001B[43mstorage_options\u001B[49m\u001B[38;5;241;43m=\u001B[39;49m\u001B[38;5;28;43mself\u001B[39;49m\u001B[38;5;241;43m.\u001B[39;49m\u001B[43moptions\u001B[49m\u001B[38;5;241;43m.\u001B[39;49m\u001B[43mget\u001B[49m\u001B[43m(\u001B[49m\u001B[38;5;124;43m\"\u001B[39;49m\u001B[38;5;124;43mstorage_options\u001B[39;49m\u001B[38;5;124;43m\"\u001B[39;49m\u001B[43m,\u001B[49m\u001B[43m \u001B[49m\u001B[38;5;28;43;01mNone\u001B[39;49;00m\u001B[43m)\u001B[49m\u001B[43m,\u001B[49m\n\u001B[1;32m   1889\u001B[0m \u001B[43m\u001B[49m\u001B[43m)\u001B[49m\n\u001B[1;32m   1890\u001B[0m \u001B[38;5;28;01massert\u001B[39;00m \u001B[38;5;28mself\u001B[39m\u001B[38;5;241m.\u001B[39mhandles \u001B[38;5;129;01mis\u001B[39;00m \u001B[38;5;129;01mnot\u001B[39;00m \u001B[38;5;28;01mNone\u001B[39;00m\n\u001B[1;32m   1891\u001B[0m f \u001B[38;5;241m=\u001B[39m \u001B[38;5;28mself\u001B[39m\u001B[38;5;241m.\u001B[39mhandles\u001B[38;5;241m.\u001B[39mhandle\n",
      "File \u001B[0;32m~/code/riemerb/maxencedauphin/.venv/lib/python3.10/site-packages/pandas/io/common.py:873\u001B[0m, in \u001B[0;36mget_handle\u001B[0;34m(path_or_buf, mode, encoding, compression, memory_map, is_text, errors, storage_options)\u001B[0m\n\u001B[1;32m    868\u001B[0m \u001B[38;5;28;01melif\u001B[39;00m \u001B[38;5;28misinstance\u001B[39m(handle, \u001B[38;5;28mstr\u001B[39m):\n\u001B[1;32m    869\u001B[0m     \u001B[38;5;66;03m# Check whether the filename is to be opened in binary mode.\u001B[39;00m\n\u001B[1;32m    870\u001B[0m     \u001B[38;5;66;03m# Binary mode does not support 'encoding' and 'newline'.\u001B[39;00m\n\u001B[1;32m    871\u001B[0m     \u001B[38;5;28;01mif\u001B[39;00m ioargs\u001B[38;5;241m.\u001B[39mencoding \u001B[38;5;129;01mand\u001B[39;00m \u001B[38;5;124m\"\u001B[39m\u001B[38;5;124mb\u001B[39m\u001B[38;5;124m\"\u001B[39m \u001B[38;5;129;01mnot\u001B[39;00m \u001B[38;5;129;01min\u001B[39;00m ioargs\u001B[38;5;241m.\u001B[39mmode:\n\u001B[1;32m    872\u001B[0m         \u001B[38;5;66;03m# Encoding\u001B[39;00m\n\u001B[0;32m--> 873\u001B[0m         handle \u001B[38;5;241m=\u001B[39m \u001B[38;5;28;43mopen\u001B[39;49m\u001B[43m(\u001B[49m\n\u001B[1;32m    874\u001B[0m \u001B[43m            \u001B[49m\u001B[43mhandle\u001B[49m\u001B[43m,\u001B[49m\n\u001B[1;32m    875\u001B[0m \u001B[43m            \u001B[49m\u001B[43mioargs\u001B[49m\u001B[38;5;241;43m.\u001B[39;49m\u001B[43mmode\u001B[49m\u001B[43m,\u001B[49m\n\u001B[1;32m    876\u001B[0m \u001B[43m            \u001B[49m\u001B[43mencoding\u001B[49m\u001B[38;5;241;43m=\u001B[39;49m\u001B[43mioargs\u001B[49m\u001B[38;5;241;43m.\u001B[39;49m\u001B[43mencoding\u001B[49m\u001B[43m,\u001B[49m\n\u001B[1;32m    877\u001B[0m \u001B[43m            \u001B[49m\u001B[43merrors\u001B[49m\u001B[38;5;241;43m=\u001B[39;49m\u001B[43merrors\u001B[49m\u001B[43m,\u001B[49m\n\u001B[1;32m    878\u001B[0m \u001B[43m            \u001B[49m\u001B[43mnewline\u001B[49m\u001B[38;5;241;43m=\u001B[39;49m\u001B[38;5;124;43m\"\u001B[39;49m\u001B[38;5;124;43m\"\u001B[39;49m\u001B[43m,\u001B[49m\n\u001B[1;32m    879\u001B[0m \u001B[43m        \u001B[49m\u001B[43m)\u001B[49m\n\u001B[1;32m    880\u001B[0m     \u001B[38;5;28;01melse\u001B[39;00m:\n\u001B[1;32m    881\u001B[0m         \u001B[38;5;66;03m# Binary mode\u001B[39;00m\n\u001B[1;32m    882\u001B[0m         handle \u001B[38;5;241m=\u001B[39m \u001B[38;5;28mopen\u001B[39m(handle, ioargs\u001B[38;5;241m.\u001B[39mmode)\n",
      "\u001B[0;31mFileNotFoundError\u001B[0m: [Errno 2] No such file or directory: '/Users/bernhardriemer/code/riemerb/maxencedauphin/bgg-project/raw_data/BGG_Data_Set.csv'"
     ]
    }
   ],
   "execution_count": 8
  },
  {
   "cell_type": "markdown",
   "id": "84fde446-8493-466b-82a5-29ea8611c3d2",
   "metadata": {},
   "source": [
    "# EDA\n",
    "---"
   ]
  },
  {
   "cell_type": "code",
   "execution_count": null,
   "id": "c15f9f01-450c-4db2-9f02-00911e9d7323",
   "metadata": {},
   "outputs": [],
   "source": [
    "df.head(2)"
   ]
  },
  {
   "cell_type": "code",
   "execution_count": null,
   "id": "c9cd834a-231e-4f94-a7b9-b0d40da22e10",
   "metadata": {},
   "outputs": [],
   "source": [
    "rows, col = df.shape\n",
    "print(f\"Total rows : {rows}, Total columns : {col}\")"
   ]
  },
  {
   "cell_type": "code",
   "execution_count": null,
   "id": "46c6566c-bcc2-4ed9-9a2f-4c3e3de18e6d",
   "metadata": {},
   "outputs": [],
   "source": [
    "# DUPLICATES\n",
    "df.duplicated().sum()"
   ]
  },
  {
   "cell_type": "code",
   "execution_count": null,
   "id": "9be9badf-7b63-421d-88e1-237839a87a9c",
   "metadata": {},
   "outputs": [],
   "source": [
    "df.info()"
   ]
  },
  {
   "cell_type": "code",
   "execution_count": null,
   "id": "99d53209-babf-4084-aafc-7560ff9d550f",
   "metadata": {},
   "outputs": [],
   "source": [
    "df.dtypes.value_counts()"
   ]
  },
  {
   "cell_type": "code",
   "execution_count": null,
   "id": "baa50437-b6cd-40ae-a270-229797f3c3b3",
   "metadata": {},
   "outputs": [],
   "source": [
    "df.select_dtypes(include=[\"object\"]).nunique().sort_values(ascending=False)"
   ]
  },
  {
   "cell_type": "code",
   "execution_count": null,
   "id": "37abdb4f-b7f4-4cfa-bcb2-a53b647374aa",
   "metadata": {},
   "outputs": [],
   "source": [
    "df.select_dtypes(include=[\"float64\"]).nunique().sort_values(ascending=False)"
   ]
  },
  {
   "cell_type": "code",
   "execution_count": null,
   "id": "41c2c2a3-0655-4bcd-b07e-f6bc4f32957a",
   "metadata": {},
   "outputs": [],
   "source": [
    "df.select_dtypes(include=[\"int64\"]).nunique().sort_values(ascending=False)"
   ]
  },
  {
   "cell_type": "code",
   "execution_count": null,
   "id": "e7cef1b7-9a51-414c-92bd-b0bc030e8f68",
   "metadata": {},
   "outputs": [],
   "source": [
    "df.describe()"
   ]
  },
  {
   "cell_type": "markdown",
   "id": "ba302a32-ab21-4468-9c49-506475708671",
   "metadata": {},
   "source": [
    "#### 🤔 My reflections:\n",
    "\n",
    "- convert column names to lowercase and replace spaces with underscores to facilitate using pandas df.name syntax\n",
    "- remove the game ID column as it does not provide inherent information about the game's quality or rating\n",
    "- remove rows where the value for owned_users is NaN\n",
    "- replace missing values in the mechanics and domains columns with \"unspecified\"\n",
    "- rework mechanics and domains columns which contains a list of strings\n",
    "- we have numerous categorical values to encode: 19,974 for name, 7,379 for mechanics, and 40 for domains. To maintain a simple basic model, I removed the name column\n",
    "\n",
    "TODO\n",
    "- we need to rework the year_published column to handle NaN, 0, and negative values, which represent very old games dated \"BC\"\n",
    "- we need to transform the list values in mechanics and domains into something more meaningful\n",
    "- ...\n"
   ]
  },
  {
   "cell_type": "markdown",
   "id": "61a75139-c20d-4451-9bf7-d16004dc9900",
   "metadata": {},
   "source": [
    "#### 🛍️ Convert column names to lowercase and replace spaces with underscores to facilitate using pandas df.name syntax"
   ]
  },
  {
   "cell_type": "code",
   "execution_count": null,
   "id": "2925c183-9b62-442b-b354-39f20f62c1a5",
   "metadata": {},
   "outputs": [],
   "source": [
    "df.columns = [col.lower().replace(' ', '_') for col in df.columns]\n",
    "\n",
    "# Output the transformed column names\n",
    "print(df.columns)"
   ]
  },
  {
   "cell_type": "markdown",
   "id": "06b5878e-bacd-49c4-b0de-57fddcc85759",
   "metadata": {},
   "source": [
    "#### 🛍️ Remove the game ID column as it does not provide inherent information about the game's quality or rating"
   ]
  },
  {
   "cell_type": "code",
   "execution_count": null,
   "id": "7fa9b008-9d3c-4abb-beb5-38194dcd0409",
   "metadata": {},
   "outputs": [],
   "source": [
    "rows, col = df.shape\n",
    "print(f\"Total rows : {rows}, Total columns : {col}\")"
   ]
  },
  {
   "cell_type": "code",
   "execution_count": null,
   "id": "86898201-f619-427f-a9cc-b6b6a63ecae0",
   "metadata": {},
   "outputs": [],
   "source": [
    "df.drop(columns=['id'], inplace=True)"
   ]
  },
  {
   "cell_type": "code",
   "execution_count": null,
   "id": "128582b2-cd16-46d2-94e6-c3effc588f53",
   "metadata": {},
   "outputs": [],
   "source": [
    "rows, col = df.shape\n",
    "print(f\"Total rows : {rows}, Total columns : {col}\")"
   ]
  },
  {
   "cell_type": "markdown",
   "id": "1a48ba30-f47d-48d7-9b17-9f4d882a7dbd",
   "metadata": {},
   "source": [
    "#### 🛍️ Remove rows where the value for owned_users is NaN"
   ]
  },
  {
   "cell_type": "code",
   "execution_count": null,
   "id": "c2cfb59f-d0e6-49a5-b8ee-7a569c9ac1cd",
   "metadata": {},
   "outputs": [],
   "source": [
    "df = df[df['owned_users'].notna()]"
   ]
  },
  {
   "cell_type": "code",
   "execution_count": null,
   "id": "f55fabed-75ce-4ef9-9c92-b691db0e2a67",
   "metadata": {},
   "outputs": [],
   "source": [
    "rows, col = df.shape\n",
    "print(f\"Total rows : {rows}, Total columns : {col}\")"
   ]
  },
  {
   "cell_type": "markdown",
   "id": "7d1b1b93-2d92-4931-a675-f72db8f2e813",
   "metadata": {},
   "source": [
    "#### 🛍️ Replace missing values in the mechanics and domains columns with \"unspecified\""
   ]
  },
  {
   "cell_type": "code",
   "execution_count": null,
   "id": "a11f7514-aa75-4f68-8001-31cb94d65120",
   "metadata": {},
   "outputs": [],
   "source": [
    "print(\"Columns with missing values:\", df.columns[df.isnull().any()])"
   ]
  },
  {
   "cell_type": "code",
   "execution_count": null,
   "id": "54a39ed2-dd24-497c-84b7-cd9ba283d18c",
   "metadata": {},
   "outputs": [],
   "source": [
    "df[\"mechanics\"] = df[\"mechanics\"].fillna(\"unspecified\")\n",
    "df[\"domains\"] = df[\"domains\"].fillna(\"unspecified\")"
   ]
  },
  {
   "cell_type": "code",
   "execution_count": null,
   "id": "823b0185-1cfb-46dd-8a0a-c214950461fe",
   "metadata": {},
   "outputs": [],
   "source": [
    "print(\"Columns with missing values:\", df.columns[df.isnull().any()])"
   ]
  },
  {
   "cell_type": "markdown",
   "id": "127a0a8b-767e-40d4-a095-254bbb15fa49",
   "metadata": {},
   "source": [
    "#### 🛍️ Rework mechanics and domains columns which contains a list of strings"
   ]
  },
  {
   "cell_type": "code",
   "execution_count": null,
   "id": "835d2750-516e-4a51-913d-6b5883bcb5ef",
   "metadata": {},
   "outputs": [],
   "source": [
    "def clean(text):\n",
    "    cln = re.sub('[^a-zA-Z], ,', ' ', str(text))\n",
    "    cln = cln.replace(\"/\",\",\")\n",
    "    cln = cln.split()\n",
    "    cln = ' '.join(cln)\n",
    "    return cln\n",
    "df[\"mechanics\"] = df[\"mechanics\"].apply(clean)\n",
    "df[\"domains\"] = df[\"domains\"].apply(clean)"
   ]
  },
  {
   "cell_type": "markdown",
   "id": "3a31b745-c77f-4f8a-a936-e333733006ea",
   "metadata": {},
   "source": [
    "#### 🛍️ Transform 'year_published' column to datetime type -> TODO"
   ]
  },
  {
   "cell_type": "code",
   "execution_count": null,
   "id": "cdacf5ff-2e95-4630-85ec-8eb2ff40cad2",
   "metadata": {},
   "outputs": [],
   "source": [
    "#df['year_published'].dtype"
   ]
  },
  {
   "cell_type": "code",
   "execution_count": null,
   "id": "5d7fe93e-5052-456c-99a4-8bd1f06a21df",
   "metadata": {},
   "outputs": [],
   "source": [
    "n\" df['year_published'].unique()"
   ]
  },
  {
   "cell_type": "code",
   "execution_count": null,
   "id": "9e35f15c-b10d-4fd3-9c92-e5cf764ec00a",
   "metadata": {},
   "outputs": [],
   "source": [
    "# TODO\n",
    "# negative_zero_nan_rows = df[(df['year_published'] <= 0) | df['year_published'].isna()]"
   ]
  },
  {
   "cell_type": "markdown",
   "id": "05ab8d17-ee77-46c5-a5e2-2e32c2f18473",
   "metadata": {},
   "source": [
    "# BASELINE\n",
    "---"
   ]
  },
  {
   "cell_type": "code",
   "execution_count": null,
   "id": "e6a4fbe8-4732-4974-a0ce-ddba41f84e05",
   "metadata": {},
   "outputs": [],
   "source": [
    "df_clean = df.copy()"
   ]
  },
  {
   "cell_type": "code",
   "execution_count": null,
   "id": "99d86367-77ef-4b84-bfd5-0d4d99626d51",
   "metadata": {},
   "outputs": [],
   "source": [
    "# we have numerous categorical values to encode: 19,974 for name, 7,379 for mechanics, and 40 for domains. To maintain a simple basic model, I removed the name column\n",
    "df_clean.drop(columns=['name'], inplace=True)\n",
    "df_clean.columns"
   ]
  },
  {
   "cell_type": "code",
   "execution_count": null,
   "id": "4e544eb6-25d1-4bdf-9689-76c793eca37e",
   "metadata": {},
   "outputs": [],
   "source": [
    "# Split data into features (X) and target (y)\n",
    "# We want to predict Average Ratings\n",
    "X = df_clean.drop('rating_average', axis=1)\n",
    "y = df_clean['rating_average']"
   ]
  },
  {
   "cell_type": "code",
   "execution_count": null,
   "id": "37274dbf-f054-4dfa-9ec6-930b7db80e9e",
   "metadata": {},
   "outputs": [],
   "source": [
    "# Split into training and testing sets\n",
    "X_train, X_test, y_train, y_test = train_test_split(X, y, test_size=0.2, random_state=42)"
   ]
  },
  {
   "cell_type": "code",
   "execution_count": null,
   "id": "f96a752b-f061-4594-b584-c1c7ad61d9e8",
   "metadata": {},
   "outputs": [],
   "source": [
    "X_train.shape, X_test.shape, y_train.shape, y_test.shape"
   ]
  },
  {
   "cell_type": "markdown",
   "id": "c9a607f3-eea2-4399-b7bb-7016202b6bd0",
   "metadata": {},
   "source": [
    "#### categorical features"
   ]
  },
  {
   "cell_type": "code",
   "execution_count": null,
   "id": "30f4daff-0ae7-42b0-9471-600843431a41",
   "metadata": {},
   "outputs": [],
   "source": [
    "df_clean.select_dtypes(include=[\"object\"]).nunique().sort_values(ascending=False)"
   ]
  },
  {
   "cell_type": "code",
   "execution_count": null,
   "id": "7111469b-fc81-4905-a2cc-8753a02adc76",
   "metadata": {},
   "outputs": [],
   "source": [
    "categorical_features_unique = df_clean.select_dtypes(include=[\"object\"]).nunique()\n",
    "categorical_features_unique.sum()"
   ]
  },
  {
   "cell_type": "code",
   "execution_count": null,
   "id": "c13f83f1-c29c-4919-b78a-2da27705bf01",
   "metadata": {},
   "outputs": [],
   "source": [
    "preproc_categorical_baseline = make_pipeline(\n",
    "    SimpleImputer(strategy=\"most_frequent\"),\n",
    "    OneHotEncoder(handle_unknown=\"ignore\", drop=\"if_binary\", sparse_output=False)\n",
    ")\n",
    "\n",
    "preproc_categorical_baseline"
   ]
  },
  {
   "cell_type": "markdown",
   "id": "fa142515-fe90-4f46-a6c6-b55518040a81",
   "metadata": {},
   "source": [
    "#### numerical features"
   ]
  },
  {
   "cell_type": "code",
   "execution_count": null,
   "id": "615fb394-7567-4825-b416-cc343baa9ca8",
   "metadata": {},
   "outputs": [],
   "source": [
    "preproc_numerical_baseline = make_pipeline(\n",
    "    SimpleImputer(),\n",
    "    MinMaxScaler()\n",
    ")\n",
    "\n",
    "preproc_numerical_baseline"
   ]
  },
  {
   "cell_type": "code",
   "execution_count": null,
   "id": "4444d501-d195-4cda-82d2-6bd2eb85907e",
   "metadata": {},
   "outputs": [],
   "source": [
    "preproc_baseline = ColumnTransformer([\n",
    "    (\"num_transform\", preproc_numerical_baseline, make_column_selector(dtype_include=np.number)),\n",
    "    (\"cat_transform\", preproc_categorical_baseline, make_column_selector(dtype_exclude=np.number))\n",
    "]).set_output(transform=\"pandas\")"
   ]
  },
  {
   "cell_type": "code",
   "execution_count": null,
   "id": "d4effa53-12cc-4955-abe2-726fbe8e20ad",
   "metadata": {},
   "outputs": [],
   "source": [
    "pipeline_baseline = make_pipeline(preproc_baseline, DecisionTreeRegressor())\n",
    "pipeline_baseline"
   ]
  },
  {
   "cell_type": "code",
   "execution_count": null,
   "id": "318f4a4d-1810-45ee-a5f3-f38e9026f24d",
   "metadata": {},
   "outputs": [],
   "source": [
    "cv_score = cross_val_score(pipeline_baseline, X_train, y_train, cv=5).mean()\n",
    "print(f\"Cross-validation score: {cv_score}\")"
   ]
  },
  {
   "cell_type": "code",
   "execution_count": null,
   "id": "bf68a419-c257-42c9-ab13-d845eb879556",
   "metadata": {},
   "outputs": [],
   "source": [
    "#pipeline_baseline.get_params()"
   ]
  },
  {
   "cell_type": "code",
   "execution_count": null,
   "id": "49d6b357-5adf-4988-8656-91d4ef4d2f33",
   "metadata": {},
   "outputs": [],
   "source": [
    "pipeline_baseline.fit(X_train, y_train)"
   ]
  },
  {
   "cell_type": "code",
   "execution_count": null,
   "id": "8d95a5be-3c10-466e-adf1-374047ce6c97",
   "metadata": {},
   "outputs": [],
   "source": [
    "# Make predictions\n",
    "y_pred = pipeline_baseline.predict(X_test)"
   ]
  },
  {
   "cell_type": "code",
   "execution_count": null,
   "id": "c83f3c9f-bbc7-4d8e-9538-1e9025de2d00",
   "metadata": {},
   "outputs": [],
   "source": [
    "Evaluate the model on the test set\n",
    "mae = metrics.mean_absolute_error(y_test, y_pred)\n",
    "mse = metrics.mean_squared_error(y_test, y_pred)\n",
    "rmse = mse ** 0.5\n",
    "\n",
    "print(f\"MAE: {mae}, MSE: {mse}, RMSE: {rmse}\")"
   ]
  },
  {
   "cell_type": "code",
   "execution_count": null,
   "id": "b28d4314-0449-46d7-b817-226d77772149",
   "metadata": {},
   "outputs": [],
   "source": [
    "import pickle\n",
    "models_path = os.path.expanduser(\"~/code/maxencedauphin/bgg-project/models\")\n",
    "pickle_file_path = os.path.join(models_path, \"pipeline_baseline.pkl\")\n",
    "# Export Pipeline as pickle file\n",
    "with open(pickle_file_path, \"wb\") as file:\n",
    "    pickle.dump(pipeline_baseline, file)\n",
    "\n",
    "print(f\"Model saved to: {pickle_file_path}\")"
   ]
  }
 ],
 "metadata": {
  "kernelspec": {
   "display_name": "Python 3 (ipykernel)",
   "language": "python",
   "name": "python3"
  },
  "language_info": {
   "codemirror_mode": {
    "name": "ipython",
    "version": 3
   },
   "file_extension": ".py",
   "mimetype": "text/x-python",
   "name": "python",
   "nbconvert_exporter": "python",
   "pygments_lexer": "ipython3",
   "version": "3.10.6"
  }
 },
 "nbformat": 4,
 "nbformat_minor": 5
}
